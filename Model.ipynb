{
 "cells": [
  {
   "cell_type": "markdown",
   "id": "e19b3619",
   "metadata": {},
   "source": [
    "# ML Model\n",
    "This is a basic ML model. It will simply run a standard ML model to come the concolustion. it will take in 12 input and try to forumlate a model that correctly prodicts teh tlargets. "
   ]
  },
  {
   "cell_type": "code",
   "execution_count": 2,
   "id": "210de273",
   "metadata": {},
   "outputs": [],
   "source": [
    "import numpy as np\n",
    "import tensorflow as tf"
   ]
  },
  {
   "cell_type": "markdown",
   "id": "150bd5a6",
   "metadata": {},
   "source": [
    "## Load the NPZ"
   ]
  },
  {
   "cell_type": "code",
   "execution_count": 3,
   "id": "b084dd21",
   "metadata": {},
   "outputs": [],
   "source": [
    "npz = np.load('data_train.npz',allow_pickle=True)\n",
    "\n",
    "train_inputs = npz['inputs'].astype(np.float)\n",
    "train_targets = npz['targets'].astype(np.int)\n",
    "\n",
    "npz = np.load('data_validation.npz',allow_pickle=True)\n",
    "validation_inputs = npz['inputs'].astype(np.float)\n",
    "validation_targets = npz['targets'].astype(np.int)\n",
    "\n",
    "npz = np.load('data_test.npz',allow_pickle=True)\n",
    "validation_inputs = npz['inputs'].astype(np.float)\n",
    "validation_targets = npz['targets'].astype(np.int)"
   ]
  },
  {
   "cell_type": "markdown",
   "id": "25996577",
   "metadata": {},
   "source": [
    "## Start the Model"
   ]
  },
  {
   "cell_type": "code",
   "execution_count": 18,
   "id": "05eef825",
   "metadata": {
    "scrolled": true
   },
   "outputs": [
    {
     "name": "stdout",
     "output_type": "stream",
     "text": [
      "Epoch 1/50\n",
      "16/16 - 0s - loss: 1.0678 - accuracy: 0.3463 - val_loss: 1.0227 - val_accuracy: 0.2967\n",
      "Epoch 2/50\n",
      "16/16 - 0s - loss: 0.9214 - accuracy: 0.3821 - val_loss: 0.9025 - val_accuracy: 0.3732\n",
      "Epoch 3/50\n",
      "16/16 - 0s - loss: 0.8178 - accuracy: 0.4715 - val_loss: 0.8201 - val_accuracy: 0.5191\n",
      "Epoch 4/50\n",
      "16/16 - 0s - loss: 0.7494 - accuracy: 0.5350 - val_loss: 0.7696 - val_accuracy: 0.5574\n",
      "Epoch 5/50\n",
      "16/16 - 0s - loss: 0.7049 - accuracy: 0.5691 - val_loss: 0.7299 - val_accuracy: 0.6005\n",
      "Epoch 6/50\n",
      "16/16 - 0s - loss: 0.6710 - accuracy: 0.6374 - val_loss: 0.6962 - val_accuracy: 0.6411\n",
      "Epoch 7/50\n",
      "16/16 - 0s - loss: 0.6443 - accuracy: 0.6585 - val_loss: 0.6683 - val_accuracy: 0.6603\n",
      "Epoch 8/50\n",
      "16/16 - 0s - loss: 0.6220 - accuracy: 0.6846 - val_loss: 0.6406 - val_accuracy: 0.6722\n",
      "Epoch 9/50\n",
      "16/16 - 0s - loss: 0.6014 - accuracy: 0.7089 - val_loss: 0.6165 - val_accuracy: 0.6938\n",
      "Epoch 10/50\n",
      "16/16 - 0s - loss: 0.5847 - accuracy: 0.7089 - val_loss: 0.5909 - val_accuracy: 0.7153\n",
      "Epoch 11/50\n",
      "16/16 - 0s - loss: 0.5699 - accuracy: 0.7154 - val_loss: 0.5710 - val_accuracy: 0.7273\n",
      "Epoch 12/50\n",
      "16/16 - 0s - loss: 0.5567 - accuracy: 0.7187 - val_loss: 0.5511 - val_accuracy: 0.7368\n",
      "Epoch 13/50\n",
      "16/16 - 0s - loss: 0.5459 - accuracy: 0.7236 - val_loss: 0.5303 - val_accuracy: 0.7440\n",
      "Epoch 14/50\n",
      "16/16 - 0s - loss: 0.5349 - accuracy: 0.7317 - val_loss: 0.5131 - val_accuracy: 0.7560\n",
      "Epoch 15/50\n",
      "16/16 - 0s - loss: 0.5262 - accuracy: 0.7317 - val_loss: 0.4985 - val_accuracy: 0.7560\n",
      "Epoch 16/50\n",
      "16/16 - 0s - loss: 0.5190 - accuracy: 0.7366 - val_loss: 0.4825 - val_accuracy: 0.7679\n",
      "Epoch 17/50\n",
      "16/16 - 0s - loss: 0.5112 - accuracy: 0.7350 - val_loss: 0.4691 - val_accuracy: 0.7727\n",
      "Epoch 18/50\n",
      "16/16 - 0s - loss: 0.5040 - accuracy: 0.7350 - val_loss: 0.4513 - val_accuracy: 0.7847\n",
      "Epoch 19/50\n",
      "16/16 - 0s - loss: 0.4960 - accuracy: 0.7496 - val_loss: 0.4291 - val_accuracy: 0.8325\n",
      "Epoch 20/50\n",
      "16/16 - 0s - loss: 0.4874 - accuracy: 0.7659 - val_loss: 0.4106 - val_accuracy: 0.8541\n",
      "Epoch 21/50\n",
      "16/16 - 0s - loss: 0.4794 - accuracy: 0.7756 - val_loss: 0.3976 - val_accuracy: 0.8684\n",
      "Epoch 22/50\n",
      "16/16 - 0s - loss: 0.4737 - accuracy: 0.7756 - val_loss: 0.3854 - val_accuracy: 0.8756\n",
      "Epoch 23/50\n",
      "16/16 - 0s - loss: 0.4682 - accuracy: 0.7821 - val_loss: 0.3763 - val_accuracy: 0.8876\n",
      "Epoch 24/50\n",
      "16/16 - 0s - loss: 0.4642 - accuracy: 0.7854 - val_loss: 0.3653 - val_accuracy: 0.8947\n",
      "Epoch 25/50\n",
      "16/16 - 0s - loss: 0.4611 - accuracy: 0.7854 - val_loss: 0.3603 - val_accuracy: 0.8947\n",
      "Epoch 26/50\n",
      "16/16 - 0s - loss: 0.4579 - accuracy: 0.7870 - val_loss: 0.3555 - val_accuracy: 0.8947\n",
      "Epoch 27/50\n",
      "16/16 - 0s - loss: 0.4558 - accuracy: 0.7870 - val_loss: 0.3492 - val_accuracy: 0.8995\n",
      "Epoch 28/50\n",
      "16/16 - 0s - loss: 0.4531 - accuracy: 0.7886 - val_loss: 0.3476 - val_accuracy: 0.8995\n",
      "Epoch 29/50\n",
      "16/16 - 0s - loss: 0.4508 - accuracy: 0.7886 - val_loss: 0.3424 - val_accuracy: 0.9019\n",
      "Epoch 30/50\n",
      "16/16 - 0s - loss: 0.4489 - accuracy: 0.7886 - val_loss: 0.3413 - val_accuracy: 0.9043\n",
      "Epoch 31/50\n",
      "16/16 - 0s - loss: 0.4477 - accuracy: 0.7886 - val_loss: 0.3385 - val_accuracy: 0.9067\n",
      "Epoch 32/50\n",
      "16/16 - 0s - loss: 0.4455 - accuracy: 0.7902 - val_loss: 0.3354 - val_accuracy: 0.9067\n",
      "Epoch 33/50\n",
      "16/16 - 0s - loss: 0.4438 - accuracy: 0.7919 - val_loss: 0.3341 - val_accuracy: 0.9043\n",
      "Epoch 34/50\n",
      "16/16 - 0s - loss: 0.4422 - accuracy: 0.7935 - val_loss: 0.3327 - val_accuracy: 0.9115\n",
      "Epoch 35/50\n",
      "16/16 - 0s - loss: 0.4404 - accuracy: 0.7951 - val_loss: 0.3281 - val_accuracy: 0.9043\n",
      "Epoch 36/50\n",
      "16/16 - 0s - loss: 0.4390 - accuracy: 0.7984 - val_loss: 0.3324 - val_accuracy: 0.8995\n"
     ]
    },
    {
     "data": {
      "text/plain": [
       "<tensorflow.python.keras.callbacks.History at 0x17cf62d90>"
      ]
     },
     "execution_count": 18,
     "metadata": {},
     "output_type": "execute_result"
    }
   ],
   "source": [
    "input_size = 12\n",
    "output_size = 2\n",
    "hidden_layer_size = 10\n",
    "\n",
    "\n",
    "model = tf.keras.Sequential([\n",
    "    tf.keras.layers.Dense(hidden_layer_size, activation='relu'),\n",
    "    tf.keras.layers.Dense(hidden_layer_size, activation='relu'),\n",
    "    tf.keras.layers.Dense(output_size, activation='softmax') \n",
    "])\n",
    "model.compile(optimizer='adam', loss='sparse_categorical_crossentropy', metrics=['accuracy'])\n",
    "\n",
    "batch_size = 40\n",
    "\n",
    "max_epochs = 50\n",
    "\n",
    "early_stopping = tf.keras.callbacks.EarlyStopping(monitor='val_loss',patience = 1)\n",
    "\n",
    "model.fit(train_inputs,\n",
    "          train_targets,\n",
    "          batch_size=batch_size,\n",
    "          epochs=max_epochs,\n",
    "          callbacks=[early_stopping],\n",
    "          validation_data=(validation_inputs, validation_targets), \n",
    "          verbose = 2 \n",
    "          )        "
   ]
  },
  {
   "cell_type": "code",
   "execution_count": null,
   "id": "453d0706",
   "metadata": {},
   "outputs": [],
   "source": [
    "class MyModel(Model):\n",
    "  def __init__(self):\n",
    "    super(MyModel, self).__init__()\n",
    "    self.conv1 = Conv2D(32, 3, activation='relu')\n",
    "    self.flatten = Flatten()\n",
    "    self.d1 = Dense(128, activation='relu')\n",
    "    self.d2 = Dense(10)\n",
    "\n",
    "  def call(self, x):\n",
    "    x = self.conv1(x)\n",
    "    x = self.flatten(x)\n",
    "    x = self.d1(x)\n",
    "    return self.d2(x)\n",
    "\n",
    "# Create an instance of the model\n",
    "model = MyModel()"
   ]
  }
 ],
 "metadata": {
  "kernelspec": {
   "display_name": "cartoonRec",
   "language": "python",
   "name": "cartoonrec"
  },
  "language_info": {
   "codemirror_mode": {
    "name": "ipython",
    "version": 3
   },
   "file_extension": ".py",
   "mimetype": "text/x-python",
   "name": "python",
   "nbconvert_exporter": "python",
   "pygments_lexer": "ipython3",
   "version": "3.9.6"
  }
 },
 "nbformat": 4,
 "nbformat_minor": 5
}
